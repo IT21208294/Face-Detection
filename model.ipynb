{
  "nbformat": 4,
  "nbformat_minor": 0,
  "metadata": {
    "colab": {
      "provenance": [],
      "authorship_tag": "ABX9TyOCPgLvWYTf2A/VT3itXSTe"
    },
    "kernelspec": {
      "name": "python3",
      "display_name": "Python 3"
    },
    "language_info": {
      "name": "python"
    }
  },
  "cells": [
    {
      "cell_type": "code",
      "source": [
        "# Import necessary libraries\n",
        "import tensorflow as tf\n",
        "from tensorflow.keras.datasets import mnist\n",
        "from tensorflow.keras.models import Sequential\n",
        "from tensorflow.keras.layers import Conv2D, MaxPooling2D, Flatten, Dense\n",
        "from tensorflow.keras.utils import to_categorical\n"
      ],
      "metadata": {
        "id": "MDk3JrX64M3E"
      },
      "execution_count": null,
      "outputs": []
    },
    {
      "cell_type": "code",
      "source": [
        "# Load MNIST dataset\n",
        "(x_train, y_train), (x_test, y_test) = mnist.load_data()"
      ],
      "metadata": {
        "id": "7ixmyyJo4TLv"
      },
      "execution_count": null,
      "outputs": []
    },
    {
      "cell_type": "code",
      "source": [
        "# Preprocess data\n",
        "x_train = x_train.reshape(x_train.shape[0], 28, 28, 1).astype('float32') / 255.0\n",
        "x_test = x_test.reshape(x_test.shape[0], 28, 28, 1).astype('float32') / 255.0\n",
        "y_train = to_categorical(y_train, 10)\n",
        "y_test = to_categorical(y_test, 10)"
      ],
      "metadata": {
        "id": "Ng3esyKD4W1i"
      },
      "execution_count": null,
      "outputs": []
    },
    {
      "cell_type": "code",
      "source": [
        "# Create a simple CNN model\n",
        "model = Sequential([\n",
        "    Conv2D(32, (3, 3), activation='relu', input_shape=(28, 28, 1)),\n",
        "    MaxPooling2D((2, 2)),\n",
        "    Flatten(),\n",
        "    Dense(128, activation='relu'),\n",
        "    Dense(10, activation='softmax')\n",
        "])"
      ],
      "metadata": {
        "id": "AdroocXp4XhB"
      },
      "execution_count": null,
      "outputs": []
    },
    {
      "cell_type": "code",
      "source": [
        "# Compile the model\n",
        "model.compile(optimizer='adam', loss='categorical_crossentropy', metrics=['accuracy'])\n"
      ],
      "metadata": {
        "id": "ltoNiXoL4b1-"
      },
      "execution_count": null,
      "outputs": []
    },
    {
      "cell_type": "code",
      "source": [
        "# Train the model\n",
        "model.fit(x_train, y_train, epochs=5, batch_size=64, validation_data=(x_test, y_test))"
      ],
      "metadata": {
        "colab": {
          "base_uri": "https://localhost:8080/"
        },
        "id": "Lbk6FdtA4cIw",
        "outputId": "2e9fbfec-7753-47e1-b095-41805f1bcaa5"
      },
      "execution_count": null,
      "outputs": [
        {
          "output_type": "stream",
          "name": "stdout",
          "text": [
            "Epoch 1/5\n",
            "938/938 [==============================] - 31s 33ms/step - loss: 0.1687 - accuracy: 0.9511 - val_loss: 0.0632 - val_accuracy: 0.9800\n",
            "Epoch 2/5\n",
            "938/938 [==============================] - 29s 31ms/step - loss: 0.0534 - accuracy: 0.9839 - val_loss: 0.0631 - val_accuracy: 0.9785\n",
            "Epoch 3/5\n",
            "938/938 [==============================] - 29s 31ms/step - loss: 0.0356 - accuracy: 0.9888 - val_loss: 0.0432 - val_accuracy: 0.9854\n",
            "Epoch 4/5\n",
            "938/938 [==============================] - 29s 30ms/step - loss: 0.0237 - accuracy: 0.9927 - val_loss: 0.0413 - val_accuracy: 0.9864\n",
            "Epoch 5/5\n",
            "938/938 [==============================] - 29s 31ms/step - loss: 0.0170 - accuracy: 0.9945 - val_loss: 0.0471 - val_accuracy: 0.9846\n"
          ]
        },
        {
          "output_type": "execute_result",
          "data": {
            "text/plain": [
              "<keras.src.callbacks.History at 0x79cce04e6560>"
            ]
          },
          "metadata": {},
          "execution_count": 7
        }
      ]
    },
    {
      "cell_type": "code",
      "source": [
        "# Evaluate the model\n",
        "test_loss, test_acc = model.evaluate(x_test, y_test)\n",
        "print(f\"Test accuracy: {test_acc}\")"
      ],
      "metadata": {
        "colab": {
          "base_uri": "https://localhost:8080/"
        },
        "id": "9KZkVV224cSo",
        "outputId": "6f965a29-2468-481d-bc0d-cfc8a47426b4"
      },
      "execution_count": null,
      "outputs": [
        {
          "output_type": "stream",
          "name": "stdout",
          "text": [
            "313/313 [==============================] - 3s 8ms/step - loss: 0.0471 - accuracy: 0.9846\n",
            "Test accuracy: 0.9846000075340271\n"
          ]
        }
      ]
    },
    {
      "cell_type": "code",
      "source": [
        "model.save('digit_recognition_model.h5')"
      ],
      "metadata": {
        "colab": {
          "base_uri": "https://localhost:8080/"
        },
        "id": "P-MHmZMu7d_p",
        "outputId": "b5d67828-fc49-4d40-c968-866d730558fb"
      },
      "execution_count": null,
      "outputs": [
        {
          "output_type": "stream",
          "name": "stderr",
          "text": [
            "/usr/local/lib/python3.10/dist-packages/keras/src/engine/training.py:3079: UserWarning: You are saving your model as an HDF5 file via `model.save()`. This file format is considered legacy. We recommend using instead the native Keras format, e.g. `model.save('my_model.keras')`.\n",
            "  saving_api.save_model(\n"
          ]
        }
      ]
    },
    {
      "cell_type": "code",
      "source": [
        "model.save('digit_recognition_model.keras')"
      ],
      "metadata": {
        "id": "a96RylSf7rBO"
      },
      "execution_count": null,
      "outputs": []
    },
    {
      "cell_type": "code",
      "source": [
        "# Prediction example\n",
        "import numpy as np\n",
        "\n",
        "# Select a random test sample\n",
        "sample_index = np.random.randint(0, len(x_test))\n",
        "sample = x_test[sample_index]\n",
        "expected_label = np.argmax(y_test[sample_index])\n",
        "\n",
        "# Perform prediction\n",
        "prediction = model.predict(np.expand_dims(sample, axis=0))\n",
        "predicted_label = np.argmax(prediction)\n",
        "\n",
        "print(f\"Expected Label: {expected_label}\")\n",
        "print(f\"Predicted Label: {predicted_label}\")\n"
      ],
      "metadata": {
        "colab": {
          "base_uri": "https://localhost:8080/"
        },
        "id": "gutTnKd74sMp",
        "outputId": "cba20d79-ff7c-4b3a-efc4-406894131238"
      },
      "execution_count": null,
      "outputs": [
        {
          "output_type": "stream",
          "name": "stdout",
          "text": [
            "1/1 [==============================] - 0s 19ms/step\n",
            "Expected Label: 2\n",
            "Predicted Label: 2\n"
          ]
        }
      ]
    }
  ]
}